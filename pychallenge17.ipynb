{
 "cells": [
  {
   "cell_type": "markdown",
   "metadata": {},
   "source": [
    "# Problem 17\n",
    "\n",
    "http://www.pythonchallenge.com/pc/return/romance.html\n",
    "\n",
    "The central picture shows cookies, and if you look at the HTTP cookies you are going to read '"
   ]
  },
  {
   "cell_type": "code",
   "execution_count": 1,
   "metadata": {},
   "outputs": [],
   "source": [
    "import cookielib\n",
    "import urllib2"
   ]
  },
  {
   "cell_type": "code",
   "execution_count": 2,
   "metadata": {},
   "outputs": [],
   "source": [
    "def get_url_and_cookies(pyurl):\n",
    "    cookjar = cookielib.CookieJar()\n",
    "    opener = urllib2.build_opener(urllib2.HTTPCookieProcessor(cookjar))\n",
    "    text = opener.open(pyurl).read()\n",
    "    return text, {cookie.name: cookie.value for cookie in cookjar}\n",
    "    "
   ]
  },
  {
   "cell_type": "code",
   "execution_count": 3,
   "metadata": {},
   "outputs": [],
   "source": [
    "def get_cookie_chain(nn):\n",
    "    \n",
    "    cookies_info = []\n",
    "    \n",
    "    while True:\n",
    "        text, cookies = get_url_and_cookies('http://www.pythonchallenge.com/pc/def/linkedlist.php?busynothing=' + nn)\n",
    "        print nn, text, cookies\n",
    "        \n",
    "        try:\n",
    "            cookies_info.append(cookies['info'])\n",
    "        except:\n",
    "            return cookies_info\n",
    "            \n",
    "        nn = text.split()[-1]"
   ]
  },
  {
   "cell_type": "code",
   "execution_count": 4,
   "metadata": {},
   "outputs": [
    {
     "name": "stdout",
     "output_type": "stream",
     "text": [
      "12345 If you came here from level 4 - go back!<br>You should follow the obvious chain...<br><br>and the next busynothing is 44827 {'info': 'B'}\n",
      "44827 and the next busynothing is 45439 {'info': 'Z'}\n",
      "45439 and the next busynothing is 94485 {'info': 'h'}\n",
      "94485 and the next busynothing is 72198 {'info': '9'}\n",
      "72198 and the next busynothing is 80992 {'info': '1'}\n",
      "80992 and the next busynothing is 8880 {'info': 'A'}\n",
      "8880 and the next busynothing is 40961 {'info': 'Y'}\n",
      "40961 and the next busynothing is 58765 {'info': '%26'}\n",
      "58765 and the next busynothing is 46561 {'info': 'S'}\n",
      "46561 and the next busynothing is 13418 {'info': 'Y'}\n",
      "13418 and the next busynothing is 41954 {'info': '%94'}\n",
      "41954 and the next busynothing is 46782 {'info': '%3A'}\n",
      "46782 and the next busynothing is 92730 {'info': '%E2'}\n",
      "92730 and the next busynothing is 89229 {'info': 'I'}\n",
      "89229 and the next busynothing is 25646 {'info': '%00'}\n",
      "25646 and the next busynothing is 74288 {'info': '%00'}\n",
      "74288 and the next busynothing is 25945 {'info': '%21'}\n",
      "25945 and the next busynothing is 39876 {'info': '%19'}\n",
      "39876 and the next busynothing is 8498 {'info': '%80'}\n",
      "8498 and the next busynothing is 34684 {'info': 'P'}\n",
      "34684 and the next busynothing is 62316 {'info': '%81'}\n",
      "62316 and the next busynothing is 71331 {'info': '%11'}\n",
      "71331 and the next busynothing is 59717 {'info': '%00'}\n",
      "59717 and the next busynothing is 76893 {'info': '%AF'}\n",
      "76893 and the next busynothing is 44091 {'info': 'g'}\n",
      "44091 and the next busynothing is 73241 {'info': '%9E'}\n",
      "73241 and the next busynothing is 19242 {'info': '%A0'}\n",
      "19242 and the next busynothing is 17476 {'info': '+'}\n",
      "17476 and the next busynothing is 39566 {'info': '%00'}\n",
      "39566 and the next busynothing is 81293 {'info': 'h'}\n",
      "81293 and the next busynothing is 25857 {'info': 'E'}\n",
      "25857 and the next busynothing is 74343 {'info': '%3D'}\n",
      "74343 and the next busynothing is 39410 {'info': 'M'}\n",
      "39410 and the next busynothing is 5505 {'info': '%B5'}\n",
      "5505 and the next busynothing is 27104 {'info': '%23'}\n",
      "27104 and the next busynothing is 54003 {'info': '%D0'}\n",
      "54003 and the next busynothing is 23501 {'info': '%D4'}\n",
      "23501 and the next busynothing is 21110 {'info': '%D1'}\n",
      "21110 and the next busynothing is 88399 {'info': '%E2'}\n",
      "88399 and the next busynothing is 49740 {'info': '%8D'}\n",
      "49740 and the next busynothing is 31552 {'info': '%06'}\n",
      "31552 and the next busynothing is 39998 {'info': '%A9'}\n",
      "39998 and the next busynothing is 19755 {'info': '%FA'}\n",
      "19755 and the next busynothing is 64624 {'info': '%26'}\n",
      "64624 and the next busynothing is 37817 {'info': 'S'}\n",
      "37817 and the next busynothing is 43427 {'info': '%D4'}\n",
      "43427 and the next busynothing is 15115 {'info': '%D3'}\n",
      "15115 and the next busynothing is 44327 {'info': '%21'}\n",
      "44327 and the next busynothing is 7715 {'info': '%A1'}\n",
      "7715 and the next busynothing is 15248 {'info': '%EA'}\n",
      "15248 and the next busynothing is 61895 {'info': 'i'}\n",
      "61895 and the next busynothing is 54759 {'info': '7'}\n",
      "54759 and the next busynothing is 54270 {'info': 'h'}\n",
      "54270 and the next busynothing is 51332 {'info': '%9B'}\n",
      "51332 and the next busynothing is 63481 {'info': '%9A'}\n",
      "63481 and the next busynothing is 12362 {'info': '%2B'}\n",
      "12362 and the next busynothing is 94476 {'info': '%BF'}\n",
      "94476 and the next busynothing is 87810 {'info': '%60'}\n",
      "87810 and the next busynothing is 6027 {'info': '%22'}\n",
      "6027 and the next busynothing is 47551 {'info': '%C5'}\n",
      "47551 and the next busynothing is 79498 {'info': 'W'}\n",
      "79498 and the next busynothing is 81226 {'info': 'X'}\n",
      "81226 and the next busynothing is 4256 {'info': '%E1'}\n",
      "4256 and the next busynothing is 62734 {'info': '%AD'}\n",
      "62734 and the next busynothing is 25666 {'info': 'L'}\n",
      "25666 and the next busynothing is 14781 {'info': '%80'}\n",
      "14781 and the next busynothing is 21412 {'info': '%E8'}\n",
      "21412 and the next busynothing is 55205 {'info': 'V'}\n",
      "55205 and the next busynothing is 65516 {'info': '%3C'}\n",
      "65516 and the next busynothing is 53535 {'info': '%C6'}\n",
      "53535 and the next busynothing is 4437 {'info': '%A8'}\n",
      "4437 and the next busynothing is 43442 {'info': '%DB'}\n",
      "43442 and the next busynothing is 91308 {'info': 'H'}\n",
      "91308 and the next busynothing is 1312 {'info': '%26'}\n",
      "1312 and the next busynothing is 36268 {'info': '3'}\n",
      "36268 and the next busynothing is 34289 {'info': '2'}\n",
      "34289 and the next busynothing is 46384 {'info': '%18'}\n",
      "46384 and the next busynothing is 18097 {'info': '%A8'}\n",
      "18097 and the next busynothing is 9401 {'info': 'x'}\n",
      "9401 and the next busynothing is 54249 {'info': '%01'}\n",
      "54249 and the next busynothing is 29247 {'info': '%08'}\n",
      "29247 and the next busynothing is 13115 {'info': '%21'}\n",
      "13115 and the next busynothing is 23053 {'info': '%8D'}\n",
      "23053 and the next busynothing is 3875 {'info': 'S'}\n",
      "3875 and the next busynothing is 16044 {'info': '%0B'}\n",
      "16044 and the next busynothing is 8022 {'info': '%C8'}\n",
      "8022 and the next busynothing is 25357 {'info': '%AF'}\n",
      "25357 and the next busynothing is 89879 {'info': '%96'}\n",
      "89879 and the next busynothing is 80119 {'info': 'K'}\n",
      "80119 and the next busynothing is 50290 {'info': 'O'}\n",
      "50290 and the next busynothing is 9297 {'info': '%CA'}\n",
      "9297 and the next busynothing is 30571 {'info': '2'}\n",
      "30571 and the next busynothing is 7414 {'info': '%B0'}\n",
      "7414 and the next busynothing is 30978 {'info': '%F1'}\n",
      "30978 and the next busynothing is 16408 {'info': '%BD'}\n",
      "16408 and the next busynothing is 80109 {'info': '%1D'}\n",
      "80109 and the next busynothing is 55736 {'info': 'u'}\n",
      "55736 and the next busynothing is 15357 {'info': '%A0'}\n",
      "15357 and the next busynothing is 80887 {'info': '%86'}\n",
      "80887 and the next busynothing is 35014 {'info': '%05'}\n",
      "35014 and the next busynothing is 16523 {'info': '%92'}\n",
      "16523 and the next busynothing is 50286 {'info': 's'}\n",
      "50286 and the next busynothing is 34813 {'info': '%B0'}\n",
      "34813 and the next busynothing is 77562 {'info': '%92'}\n",
      "77562 and the next busynothing is 54746 {'info': '%C4'}\n",
      "54746 and the next busynothing is 22680 {'info': 'B'}\n",
      "22680 and the next busynothing is 19705 {'info': 'c'}\n",
      "19705 and the next busynothing is 77000 {'info': '%F1'}\n",
      "77000 and the next busynothing is 27634 {'info': 'w'}\n",
      "27634 and the next busynothing is 21008 {'info': '%24'}\n",
      "21008 and the next busynothing is 64994 {'info': 'S'}\n",
      "64994 and the next busynothing is 66109 {'info': '%85'}\n",
      "66109 and the next busynothing is 37855 {'info': '%09'}\n",
      "37855 and the next busynothing is 36383 {'info': '%09'}\n",
      "36383 and the next busynothing is 68548 {'info': 'C'}\n",
      "68548 and the next busynothing is 96070 {'info': '%AE'}\n",
      "96070 and the next busynothing is 83051 {'info': '%24'}\n",
      "83051 that's it. {'info': '%90'}\n",
      "it. and the next busynothing is 72758 {}\n"
     ]
    }
   ],
   "source": [
    "chain = get_cookie_chain('12345')"
   ]
  },
  {
   "cell_type": "code",
   "execution_count": 5,
   "metadata": {},
   "outputs": [
    {
     "data": {
      "text/plain": [
       "'BZh91AY&SY\\x94:\\xe2I\\x00\\x00!\\x19\\x80P\\x81\\x11\\x00\\xafg\\x9e\\xa0+\\x00hE=M\\xb5#\\xd0\\xd4\\xd1\\xe2\\x8d\\x06\\xa9\\xfa&S\\xd4\\xd3!\\xa1\\xeai7h\\x9b\\x9a+\\xbf`\"\\xc5WX\\xe1\\xadL\\x80\\xe8V<\\xc6\\xa8\\xdbH&32\\x18\\xa8x\\x01\\x08!\\x8dS\\x0b\\xc8\\xaf\\x96KO\\xca2\\xb0\\xf1\\xbd\\x1du\\xa0\\x86\\x05\\x92s\\xb0\\x92\\xc4Bc\\xf1w$S\\x85\\t\\tC\\xae$\\x90'"
      ]
     },
     "execution_count": 5,
     "metadata": {},
     "output_type": "execute_result"
    }
   ],
   "source": [
    "import bz2\n",
    "from utils.general import list_of_chars_to_string\n",
    "\n",
    "s_chain = list_of_chars_to_string(chain)\n",
    "u_chain = urllib2.unquote(s_chain)\n",
    "u_chain       # doesn't work with print"
   ]
  },
  {
   "cell_type": "code",
   "execution_count": 6,
   "metadata": {},
   "outputs": [
    {
     "data": {
      "text/plain": [
       "'is it the 26th already? call his father and inform him that \"the flowers are on their way\". he\\'ll understand.'"
      ]
     },
     "execution_count": 6,
     "metadata": {},
     "output_type": "execute_result"
    }
   ],
   "source": [
    "bz2.decompress(b'BZh91AY&SY\\x94:\\xe2I\\x00\\x00!\\x19\\x80P\\x81\\x11\\x00\\xafg\\x9e\\xa0 \\x00hE=M\\xb5#\\xd0\\xd4\\xd1\\xe2\\x8d\\x06\\xa9\\xfa&S\\xd4\\xd3!\\xa1\\xeai7h\\x9b\\x9a+\\xbf`\"\\xc5WX\\xe1\\xadL\\x80\\xe8V<\\xc6\\xa8\\xdbH&32\\x18\\xa8x\\x01\\x08!\\x8dS\\x0b\\xc8\\xaf\\x96KO\\xca2\\xb0\\xf1\\xbd\\x1du\\xa0\\x86\\x05\\x92s\\xb0\\x92\\xc4Bc\\xf1w$S\\x85\\t\\tC\\xae$\\x90')\n"
   ]
  },
  {
   "cell_type": "markdown",
   "metadata": {},
   "source": [
    "Call the XML-RPC server from Problem 14"
   ]
  },
  {
   "cell_type": "code",
   "execution_count": 7,
   "metadata": {},
   "outputs": [
    {
     "data": {
      "text/plain": [
       "'555-VIOLIN'"
      ]
     },
     "execution_count": 7,
     "metadata": {},
     "output_type": "execute_result"
    }
   ],
   "source": [
    "import xmlrpclib\n",
    "server = xmlrpclib.ServerProxy('http://www.pythonchallenge.com/pc/phonebook.php')\n",
    "server.phone('Leopold')"
   ]
  },
  {
   "cell_type": "markdown",
   "metadata": {},
   "source": [
    "Go to http://www.pythonchallenge.com/pc/return/violin.html and then to http://www.pythonchallenge.com/pc/stuff/violin.php. You'll get a 'it's me. what do you want?'"
   ]
  },
  {
   "cell_type": "markdown",
   "metadata": {},
   "source": [
    "MISSING LAST PART (you have to use put the message in the cookies)"
   ]
  }
 ],
 "metadata": {
  "kernelspec": {
   "display_name": "Python 2",
   "language": "python",
   "name": "python2"
  },
  "language_info": {
   "codemirror_mode": {
    "name": "ipython",
    "version": 2
   },
   "file_extension": ".py",
   "mimetype": "text/x-python",
   "name": "python",
   "nbconvert_exporter": "python",
   "pygments_lexer": "ipython2",
   "version": "2.7.12"
  }
 },
 "nbformat": 4,
 "nbformat_minor": 2
}
