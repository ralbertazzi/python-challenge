{
 "cells": [
  {
   "cell_type": "markdown",
   "metadata": {},
   "source": [
    "# Problem 6\n",
    "\n",
    "http://www.pythonchallenge.com/pc/def/channel.html\n",
    "\n",
    "http://www.pythonchallenge.com/pc/def/channel.zip"
   ]
  },
  {
   "cell_type": "code",
   "execution_count": 1,
   "metadata": {},
   "outputs": [],
   "source": [
    "import zipfile\n",
    "import sys\n",
    "from os.path import join"
   ]
  },
  {
   "cell_type": "markdown",
   "metadata": {},
   "source": [
    "First try: extract the zip. readme.txt says to start from 90052 and to look for comments."
   ]
  },
  {
   "cell_type": "code",
   "execution_count": 2,
   "metadata": {},
   "outputs": [],
   "source": [
    "def extract_zip():\n",
    "    with zipfile.ZipFile('data/channel.zip') as zip_handle:\n",
    "        zip_handle.extractall('data/06_channel')\n",
    "        \n",
    "# extract_zip()"
   ]
  },
  {
   "cell_type": "markdown",
   "metadata": {},
   "source": [
    "Second try: loop through the 'next nothing' extracted files"
   ]
  },
  {
   "cell_type": "code",
   "execution_count": 3,
   "metadata": {},
   "outputs": [],
   "source": [
    "def analyze_files(start):\n",
    "\n",
    "    current_next_nothing = start\n",
    "    while True:\n",
    "        next_nothing_filename = join('data/06_channel', '{}.txt'.format(current_next_nothing))\n",
    "        with open(next_nothing_filename, 'r') as nn_handle:\n",
    "            text = nn_handle.read()\n",
    "            print current_next_nothing, text\n",
    "            current_next_nothing = int(text.split()[-1])\n",
    "            \n",
    "# analyze_files(90052)"
   ]
  },
  {
   "cell_type": "markdown",
   "metadata": {},
   "source": [
    "Third try: loop through the 'next nothing' without even extract them and through the comments contained in the zip (one comment per file). Print the comments in the order of the next nothings."
   ]
  },
  {
   "cell_type": "code",
   "execution_count": 4,
   "metadata": {},
   "outputs": [],
   "source": [
    "def collect_comments(start):\n",
    "\n",
    "    def add_txt(number):\n",
    "        return '{}.txt'.format(number)\n",
    "    \n",
    "    current_nn_filename = add_txt(start)\n",
    "    \n",
    "    with zipfile.ZipFile('data/channel.zip') as archive:\n",
    "        comments = {info.filename : info.comment for info in archive.infolist()}\n",
    "        \n",
    "        while True:\n",
    "            try:\n",
    "                sys.stdout.write(comments[current_nn_filename])\n",
    "                text = archive.read(current_nn_filename)\n",
    "                current_nn_filename = add_txt(text.split()[-1])\n",
    "            except:\n",
    "                return"
   ]
  },
  {
   "cell_type": "code",
   "execution_count": 5,
   "metadata": {},
   "outputs": [
    {
     "name": "stdout",
     "output_type": "stream",
     "text": [
      "****************************************************************\n",
      "****************************************************************\n",
      "**                                                            **\n",
      "**   OO    OO    XX      YYYY    GG    GG  EEEEEE NN      NN  **\n",
      "**   OO    OO  XXXXXX   YYYYYY   GG   GG   EEEEEE  NN    NN   **\n",
      "**   OO    OO XXX  XXX YYY   YY  GG GG     EE       NN  NN    **\n",
      "**   OOOOOOOO XX    XX YY        GGG       EEEEE     NNNN     **\n",
      "**   OOOOOOOO XX    XX YY        GGG       EEEEE      NN      **\n",
      "**   OO    OO XXX  XXX YYY   YY  GG GG     EE         NN      **\n",
      "**   OO    OO  XXXXXX   YYYYYY   GG   GG   EEEEEE     NN      **\n",
      "**   OO    OO    XX      YYYY    GG    GG  EEEEEE     NN      **\n",
      "**                                                            **\n",
      "****************************************************************\n",
      " **************************************************************\n"
     ]
    }
   ],
   "source": [
    "collect_comments(90052)"
   ]
  }
 ],
 "metadata": {
  "kernelspec": {
   "display_name": "Python 2",
   "language": "python",
   "name": "python2"
  },
  "language_info": {
   "codemirror_mode": {
    "name": "ipython",
    "version": 2
   },
   "file_extension": ".py",
   "mimetype": "text/x-python",
   "name": "python",
   "nbconvert_exporter": "python",
   "pygments_lexer": "ipython2",
   "version": "2.7.12"
  }
 },
 "nbformat": 4,
 "nbformat_minor": 2
}
