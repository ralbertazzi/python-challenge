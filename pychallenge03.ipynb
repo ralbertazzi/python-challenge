{
 "cells": [
  {
   "cell_type": "markdown",
   "metadata": {},
   "source": [
    "# Problem 3\n",
    "\n",
    "http://www.pythonchallenge.com/pc/def/equality.html"
   ]
  },
  {
   "cell_type": "code",
   "execution_count": 1,
   "metadata": {},
   "outputs": [],
   "source": [
    "import numpy as np\n",
    "from utils.alphabet import get_uppercase_alphabet\n",
    "from utils.web import get_html_comments\n",
    "from utils.general import list_of_chars_to_string"
   ]
  },
  {
   "cell_type": "code",
   "execution_count": 2,
   "metadata": {},
   "outputs": [],
   "source": [
    "def find_pattern(arr, pattern):\n",
    "    \n",
    "    \"\"\" Perform some kind of convolution in order to find a pattern.\n",
    "        Might not be the most efficient way to compute this \"\"\"  \n",
    "\n",
    "    l = len(pattern)\n",
    "    for idx in range(len(arr) - l):\n",
    "        arr_slice = arr[idx:idx+l]\n",
    "        yield 1 if np.array_equal(arr_slice, pattern) else 0"
   ]
  },
  {
   "cell_type": "code",
   "execution_count": 3,
   "metadata": {},
   "outputs": [
    {
     "name": "stdout",
     "output_type": "stream",
     "text": [
      "linkedlist\n"
     ]
    }
   ],
   "source": [
    "target = np.array([0, 1, 1, 1, 0, 1, 1, 1, 0])\n",
    "\n",
    "pyurl = 'http://www.pythonchallenge.com/pc/def/equality.html'\n",
    "pycomment = get_html_comments(pyurl)[-1]\n",
    "\n",
    "u_alphabet = get_uppercase_alphabet()\n",
    "condition = np.array([1 if c in u_alphabet else 0 for c in pycomment])\n",
    "\n",
    "pattern_mask = np.array(list(find_pattern(condition, target)))\n",
    "pattern_indexes = np.where(pattern_mask == 1)[0] + 4\n",
    "\n",
    "print list_of_chars_to_string([c for idx, c in enumerate(pycomment) if idx in pattern_indexes and c != '\\n'])"
   ]
  }
 ],
 "metadata": {
  "kernelspec": {
   "display_name": "Python 2",
   "language": "python",
   "name": "python2"
  },
  "language_info": {
   "codemirror_mode": {
    "name": "ipython",
    "version": 2
   },
   "file_extension": ".py",
   "mimetype": "text/x-python",
   "name": "python",
   "nbconvert_exporter": "python",
   "pygments_lexer": "ipython2",
   "version": "2.7.12"
  }
 },
 "nbformat": 4,
 "nbformat_minor": 2
}
