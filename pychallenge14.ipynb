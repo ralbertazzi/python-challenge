{
 "cells": [
  {
   "cell_type": "markdown",
   "metadata": {},
   "source": [
    "# Problem 14\n",
    "\n",
    "http://www.pythonchallenge.com/pc/return/italy.html\n",
    "\n",
    "remember: 100*100 = (100+99+99+98) + (..."
   ]
  },
  {
   "cell_type": "code",
   "execution_count": 1,
   "metadata": {},
   "outputs": [],
   "source": [
    "from utils.web import get_image_from_url\n",
    "import matplotlib.pyplot as plt\n",
    "import numpy as np"
   ]
  },
  {
   "cell_type": "code",
   "execution_count": 2,
   "metadata": {},
   "outputs": [
    {
     "name": "stdout",
     "output_type": "stream",
     "text": [
      "(10000, 3)\n"
     ]
    }
   ],
   "source": [
    "image = get_image_from_url('http://www.pythonchallenge.com/pc/return/wire.png', username='huge', password='file')\n",
    "image = image[0]\n",
    "print image.shape"
   ]
  },
  {
   "cell_type": "markdown",
   "metadata": {},
   "source": [
    "From the hints we can understand that we have to create a spiral version of the flattened array. The spiral will be an image that we can show."
   ]
  },
  {
   "cell_type": "code",
   "execution_count": 3,
   "metadata": {},
   "outputs": [],
   "source": [
    "res = np.empty(shape=(100, 100, 3))"
   ]
  },
  {
   "cell_type": "markdown",
   "metadata": {},
   "source": [
    "Defining enum for directions"
   ]
  },
  {
   "cell_type": "code",
   "execution_count": 4,
   "metadata": {},
   "outputs": [],
   "source": [
    "def enum(**enums):\n",
    "    return type('Enum', (), enums)\n",
    "\n",
    "Directions = enum(LEFT_TO_RIGHT='LEFT_TO_RIGHT', UP_TO_DOWN='UP_TO_DOWN', \n",
    "                  RIGHT_TO_LEFT='RIGHT_TO_LEFT', DOWN_TO_UP='DOWN_TO_UP')\n",
    "\n",
    "horizontal_directions = Directions.LEFT_TO_RIGHT, Directions.RIGHT_TO_LEFT\n",
    "vertical_directions = Directions.UP_TO_DOWN, Directions.DOWN_TO_UP"
   ]
  },
  {
   "cell_type": "markdown",
   "metadata": {},
   "source": [
    "### Implemented the *state machine* to handle the spiral insertion of the array into the output image\n",
    "\n",
    "Initial state"
   ]
  },
  {
   "cell_type": "code",
   "execution_count": 5,
   "metadata": {},
   "outputs": [],
   "source": [
    "coord_x, coord_y = 0, 0\n",
    "current_idx = 0\n",
    "direction = Directions.LEFT_TO_RIGHT\n",
    "current_dim = 100"
   ]
  },
  {
   "cell_type": "markdown",
   "metadata": {},
   "source": [
    "And code that runs, inserts part of the array into the output image, and updates the state"
   ]
  },
  {
   "cell_type": "code",
   "execution_count": 6,
   "metadata": {},
   "outputs": [
    {
     "name": "stdout",
     "output_type": "stream",
     "text": [
      "0 0 LEFT_TO_RIGHT 0 100\n",
      "1 99 UP_TO_DOWN 100 99\n",
      "99 0 RIGHT_TO_LEFT 199 99\n",
      "1 0 DOWN_TO_UP 298 98\n",
      "1 1 LEFT_TO_RIGHT 396 98\n",
      "2 98 UP_TO_DOWN 494 97\n",
      "98 1 RIGHT_TO_LEFT 591 97\n",
      "2 1 DOWN_TO_UP 688 96\n",
      "2 2 LEFT_TO_RIGHT 784 96\n",
      "3 97 UP_TO_DOWN 880 95\n",
      "97 2 RIGHT_TO_LEFT 975 95\n",
      "3 2 DOWN_TO_UP 1070 94\n",
      "3 3 LEFT_TO_RIGHT 1164 94\n",
      "4 96 UP_TO_DOWN 1258 93\n",
      "96 3 RIGHT_TO_LEFT 1351 93\n",
      "4 3 DOWN_TO_UP 1444 92\n",
      "4 4 LEFT_TO_RIGHT 1536 92\n",
      "5 95 UP_TO_DOWN 1628 91\n",
      "95 4 RIGHT_TO_LEFT 1719 91\n",
      "5 4 DOWN_TO_UP 1810 90\n",
      "5 5 LEFT_TO_RIGHT 1900 90\n",
      "6 94 UP_TO_DOWN 1990 89\n",
      "94 5 RIGHT_TO_LEFT 2079 89\n",
      "6 5 DOWN_TO_UP 2168 88\n",
      "6 6 LEFT_TO_RIGHT 2256 88\n",
      "7 93 UP_TO_DOWN 2344 87\n",
      "93 6 RIGHT_TO_LEFT 2431 87\n",
      "7 6 DOWN_TO_UP 2518 86\n",
      "7 7 LEFT_TO_RIGHT 2604 86\n",
      "8 92 UP_TO_DOWN 2690 85\n",
      "92 7 RIGHT_TO_LEFT 2775 85\n",
      "8 7 DOWN_TO_UP 2860 84\n",
      "8 8 LEFT_TO_RIGHT 2944 84\n",
      "9 91 UP_TO_DOWN 3028 83\n",
      "91 8 RIGHT_TO_LEFT 3111 83\n",
      "9 8 DOWN_TO_UP 3194 82\n",
      "9 9 LEFT_TO_RIGHT 3276 82\n",
      "10 90 UP_TO_DOWN 3358 81\n",
      "90 9 RIGHT_TO_LEFT 3439 81\n",
      "10 9 DOWN_TO_UP 3520 80\n",
      "10 10 LEFT_TO_RIGHT 3600 80\n",
      "11 89 UP_TO_DOWN 3680 79\n",
      "89 10 RIGHT_TO_LEFT 3759 79\n",
      "11 10 DOWN_TO_UP 3838 78\n",
      "11 11 LEFT_TO_RIGHT 3916 78\n",
      "12 88 UP_TO_DOWN 3994 77\n",
      "88 11 RIGHT_TO_LEFT 4071 77\n",
      "12 11 DOWN_TO_UP 4148 76\n",
      "12 12 LEFT_TO_RIGHT 4224 76\n",
      "13 87 UP_TO_DOWN 4300 75\n",
      "87 12 RIGHT_TO_LEFT 4375 75\n",
      "13 12 DOWN_TO_UP 4450 74\n",
      "13 13 LEFT_TO_RIGHT 4524 74\n",
      "14 86 UP_TO_DOWN 4598 73\n",
      "86 13 RIGHT_TO_LEFT 4671 73\n",
      "14 13 DOWN_TO_UP 4744 72\n",
      "14 14 LEFT_TO_RIGHT 4816 72\n",
      "15 85 UP_TO_DOWN 4888 71\n",
      "85 14 RIGHT_TO_LEFT 4959 71\n",
      "15 14 DOWN_TO_UP 5030 70\n",
      "15 15 LEFT_TO_RIGHT 5100 70\n",
      "16 84 UP_TO_DOWN 5170 69\n",
      "84 15 RIGHT_TO_LEFT 5239 69\n",
      "16 15 DOWN_TO_UP 5308 68\n",
      "16 16 LEFT_TO_RIGHT 5376 68\n",
      "17 83 UP_TO_DOWN 5444 67\n",
      "83 16 RIGHT_TO_LEFT 5511 67\n",
      "17 16 DOWN_TO_UP 5578 66\n",
      "17 17 LEFT_TO_RIGHT 5644 66\n",
      "18 82 UP_TO_DOWN 5710 65\n",
      "82 17 RIGHT_TO_LEFT 5775 65\n",
      "18 17 DOWN_TO_UP 5840 64\n",
      "18 18 LEFT_TO_RIGHT 5904 64\n",
      "19 81 UP_TO_DOWN 5968 63\n",
      "81 18 RIGHT_TO_LEFT 6031 63\n",
      "19 18 DOWN_TO_UP 6094 62\n",
      "19 19 LEFT_TO_RIGHT 6156 62\n",
      "20 80 UP_TO_DOWN 6218 61\n",
      "80 19 RIGHT_TO_LEFT 6279 61\n",
      "20 19 DOWN_TO_UP 6340 60\n",
      "20 20 LEFT_TO_RIGHT 6400 60\n",
      "21 79 UP_TO_DOWN 6460 59\n",
      "79 20 RIGHT_TO_LEFT 6519 59\n",
      "21 20 DOWN_TO_UP 6578 58\n",
      "21 21 LEFT_TO_RIGHT 6636 58\n",
      "22 78 UP_TO_DOWN 6694 57\n",
      "78 21 RIGHT_TO_LEFT 6751 57\n",
      "22 21 DOWN_TO_UP 6808 56\n",
      "22 22 LEFT_TO_RIGHT 6864 56\n",
      "23 77 UP_TO_DOWN 6920 55\n",
      "77 22 RIGHT_TO_LEFT 6975 55\n",
      "23 22 DOWN_TO_UP 7030 54\n",
      "23 23 LEFT_TO_RIGHT 7084 54\n",
      "24 76 UP_TO_DOWN 7138 53\n",
      "76 23 RIGHT_TO_LEFT 7191 53\n",
      "24 23 DOWN_TO_UP 7244 52\n",
      "24 24 LEFT_TO_RIGHT 7296 52\n",
      "25 75 UP_TO_DOWN 7348 51\n",
      "75 24 RIGHT_TO_LEFT 7399 51\n",
      "25 24 DOWN_TO_UP 7450 50\n",
      "25 25 LEFT_TO_RIGHT 7500 50\n",
      "26 74 UP_TO_DOWN 7550 49\n",
      "74 25 RIGHT_TO_LEFT 7599 49\n",
      "26 25 DOWN_TO_UP 7648 48\n",
      "26 26 LEFT_TO_RIGHT 7696 48\n",
      "27 73 UP_TO_DOWN 7744 47\n",
      "73 26 RIGHT_TO_LEFT 7791 47\n",
      "27 26 DOWN_TO_UP 7838 46\n",
      "27 27 LEFT_TO_RIGHT 7884 46\n",
      "28 72 UP_TO_DOWN 7930 45\n",
      "72 27 RIGHT_TO_LEFT 7975 45\n",
      "28 27 DOWN_TO_UP 8020 44\n",
      "28 28 LEFT_TO_RIGHT 8064 44\n",
      "29 71 UP_TO_DOWN 8108 43\n",
      "71 28 RIGHT_TO_LEFT 8151 43\n",
      "29 28 DOWN_TO_UP 8194 42\n",
      "29 29 LEFT_TO_RIGHT 8236 42\n",
      "30 70 UP_TO_DOWN 8278 41\n",
      "70 29 RIGHT_TO_LEFT 8319 41\n",
      "30 29 DOWN_TO_UP 8360 40\n",
      "30 30 LEFT_TO_RIGHT 8400 40\n",
      "31 69 UP_TO_DOWN 8440 39\n",
      "69 30 RIGHT_TO_LEFT 8479 39\n",
      "31 30 DOWN_TO_UP 8518 38\n",
      "31 31 LEFT_TO_RIGHT 8556 38\n",
      "32 68 UP_TO_DOWN 8594 37\n",
      "68 31 RIGHT_TO_LEFT 8631 37\n",
      "32 31 DOWN_TO_UP 8668 36\n",
      "32 32 LEFT_TO_RIGHT 8704 36\n",
      "33 67 UP_TO_DOWN 8740 35\n",
      "67 32 RIGHT_TO_LEFT 8775 35\n",
      "33 32 DOWN_TO_UP 8810 34\n",
      "33 33 LEFT_TO_RIGHT 8844 34\n",
      "34 66 UP_TO_DOWN 8878 33\n",
      "66 33 RIGHT_TO_LEFT 8911 33\n",
      "34 33 DOWN_TO_UP 8944 32\n",
      "34 34 LEFT_TO_RIGHT 8976 32\n",
      "35 65 UP_TO_DOWN 9008 31\n",
      "65 34 RIGHT_TO_LEFT 9039 31\n",
      "35 34 DOWN_TO_UP 9070 30\n",
      "35 35 LEFT_TO_RIGHT 9100 30\n",
      "36 64 UP_TO_DOWN 9130 29\n",
      "64 35 RIGHT_TO_LEFT 9159 29\n",
      "36 35 DOWN_TO_UP 9188 28\n",
      "36 36 LEFT_TO_RIGHT 9216 28\n",
      "37 63 UP_TO_DOWN 9244 27\n",
      "63 36 RIGHT_TO_LEFT 9271 27\n",
      "37 36 DOWN_TO_UP 9298 26\n",
      "37 37 LEFT_TO_RIGHT 9324 26\n",
      "38 62 UP_TO_DOWN 9350 25\n",
      "62 37 RIGHT_TO_LEFT 9375 25\n",
      "38 37 DOWN_TO_UP 9400 24\n",
      "38 38 LEFT_TO_RIGHT 9424 24\n",
      "39 61 UP_TO_DOWN 9448 23\n",
      "61 38 RIGHT_TO_LEFT 9471 23\n",
      "39 38 DOWN_TO_UP 9494 22\n",
      "39 39 LEFT_TO_RIGHT 9516 22\n",
      "40 60 UP_TO_DOWN 9538 21\n",
      "60 39 RIGHT_TO_LEFT 9559 21\n",
      "40 39 DOWN_TO_UP 9580 20\n",
      "40 40 LEFT_TO_RIGHT 9600 20\n",
      "41 59 UP_TO_DOWN 9620 19\n",
      "59 40 RIGHT_TO_LEFT 9639 19\n",
      "41 40 DOWN_TO_UP 9658 18\n",
      "41 41 LEFT_TO_RIGHT 9676 18\n",
      "42 58 UP_TO_DOWN 9694 17\n",
      "58 41 RIGHT_TO_LEFT 9711 17\n",
      "42 41 DOWN_TO_UP 9728 16\n",
      "42 42 LEFT_TO_RIGHT 9744 16\n",
      "43 57 UP_TO_DOWN 9760 15\n",
      "57 42 RIGHT_TO_LEFT 9775 15\n",
      "43 42 DOWN_TO_UP 9790 14\n",
      "43 43 LEFT_TO_RIGHT 9804 14\n",
      "44 56 UP_TO_DOWN 9818 13\n",
      "56 43 RIGHT_TO_LEFT 9831 13\n",
      "44 43 DOWN_TO_UP 9844 12\n",
      "44 44 LEFT_TO_RIGHT 9856 12\n",
      "45 55 UP_TO_DOWN 9868 11\n",
      "55 44 RIGHT_TO_LEFT 9879 11\n",
      "45 44 DOWN_TO_UP 9890 10\n",
      "45 45 LEFT_TO_RIGHT 9900 10\n",
      "46 54 UP_TO_DOWN 9910 9\n",
      "54 45 RIGHT_TO_LEFT 9919 9\n",
      "46 45 DOWN_TO_UP 9928 8\n",
      "46 46 LEFT_TO_RIGHT 9936 8\n",
      "47 53 UP_TO_DOWN 9944 7\n",
      "53 46 RIGHT_TO_LEFT 9951 7\n",
      "47 46 DOWN_TO_UP 9958 6\n",
      "47 47 LEFT_TO_RIGHT 9964 6\n",
      "48 52 UP_TO_DOWN 9970 5\n",
      "52 47 RIGHT_TO_LEFT 9975 5\n",
      "48 47 DOWN_TO_UP 9980 4\n",
      "48 48 LEFT_TO_RIGHT 9984 4\n",
      "49 51 UP_TO_DOWN 9988 3\n",
      "51 48 RIGHT_TO_LEFT 9991 3\n",
      "49 48 DOWN_TO_UP 9994 2\n",
      "49 49 LEFT_TO_RIGHT 9996 2\n",
      "50 50 UP_TO_DOWN 9998 1\n",
      "50 49 RIGHT_TO_LEFT 9999 1\n"
     ]
    }
   ],
   "source": [
    "while current_dim > 0:\n",
    "        \n",
    "    print coord_y, coord_x, direction, current_idx, current_dim\n",
    "    \n",
    "    subarray = image[current_idx:current_idx + current_dim]\n",
    "    current_idx += current_dim\n",
    "    \n",
    "    if direction in (Directions.RIGHT_TO_LEFT, Directions.DOWN_TO_UP):\n",
    "        subarray = subarray[::-1]\n",
    "    \n",
    "    \n",
    "    if direction in horizontal_directions:\n",
    "        res[coord_y, coord_x:coord_x + len(subarray)] = subarray\n",
    "    elif direction in vertical_directions:\n",
    "        res[coord_y:coord_y + len(subarray), coord_x] = subarray\n",
    "    \n",
    "    \n",
    "    if direction == Directions.LEFT_TO_RIGHT:\n",
    "        \n",
    "        direction = Directions.UP_TO_DOWN\n",
    "        current_dim -= 1\n",
    "        coord_x += len(subarray) - 1\n",
    "        coord_y += 1\n",
    "        \n",
    "    elif direction == Directions.UP_TO_DOWN:\n",
    "        \n",
    "        direction = Directions.RIGHT_TO_LEFT\n",
    "        coord_x -= current_dim\n",
    "        coord_y += len(subarray) - 1\n",
    "        \n",
    "    elif direction == Directions.RIGHT_TO_LEFT:\n",
    "        \n",
    "        direction = Directions.DOWN_TO_UP\n",
    "        current_dim -= 1\n",
    "        coord_y -= current_dim\n",
    "        \n",
    "    elif direction == Directions.DOWN_TO_UP:\n",
    "        \n",
    "        direction = Directions.LEFT_TO_RIGHT\n",
    "        coord_x += 1\n",
    "    "
   ]
  },
  {
   "cell_type": "markdown",
   "metadata": {},
   "source": [
    "Don't know why the pyplot as not like the output one (maybe some channel has changed?). Whatever, that's a cat (its name is uzi)"
   ]
  },
  {
   "cell_type": "code",
   "execution_count": 7,
   "metadata": {},
   "outputs": [
    {
     "data": {
      "text/plain": [
       "<matplotlib.image.AxesImage at 0x7f115f0832d0>"
      ]
     },
     "execution_count": 7,
     "metadata": {},
     "output_type": "execute_result"
    },
    {
     "data": {
      "image/png": "[encoded data removed]",
      "text/plain": [
       "<matplotlib.figure.Figure at 0x7f11617569d0>"
      ]
     },
     "metadata": {},
     "output_type": "display_data"
    }
   ],
   "source": [
    "plt.imshow(res)"
   ]
  }
 ],
 "metadata": {
  "kernelspec": {
   "display_name": "Python 2",
   "language": "python",
   "name": "python2"
  },
  "language_info": {
   "codemirror_mode": {
    "name": "ipython",
    "version": 2
   },
   "file_extension": ".py",
   "mimetype": "text/x-python",
   "name": "python",
   "nbconvert_exporter": "python",
   "pygments_lexer": "ipython2",
   "version": "2.7.12"
  }
 },
 "nbformat": 4,
 "nbformat_minor": 2
}
