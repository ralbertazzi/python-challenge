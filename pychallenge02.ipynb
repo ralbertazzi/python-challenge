{
 "cells": [
  {
   "cell_type": "markdown",
   "metadata": {},
   "source": [
    "# Problem 2\n",
    "\n",
    "http://www.pythonchallenge.com/pc/def/ocr.html"
   ]
  },
  {
   "cell_type": "code",
   "execution_count": 1,
   "metadata": {},
   "outputs": [],
   "source": [
    "from utils.alphabet import get_lowercase_alphabet\n",
    "from utils.web import get_html_comments\n",
    "from utils.general import list_of_chars_to_string"
   ]
  },
  {
   "cell_type": "code",
   "execution_count": 2,
   "metadata": {},
   "outputs": [],
   "source": [
    "# 1. Get the comment to be analysed using urllib and BeautifulSoup\n",
    "pyurl = 'http://www.pythonchallenge.com/pc/def/ocr.html'\n",
    "all_comments = get_html_comments(pyurl)\n",
    "pycomment = all_comments[-1]"
   ]
  },
  {
   "cell_type": "code",
   "execution_count": 3,
   "metadata": {},
   "outputs": [
    {
     "name": "stdout",
     "output_type": "stream",
     "text": [
      "equality\n"
     ]
    }
   ],
   "source": [
    "# 2. Find the comment characters that belong to the alphabet\n",
    "alphabet = get_lowercase_alphabet()\n",
    "print list_of_chars_to_string([comment_char for comment_char in pycomment if comment_char in alphabet])"
   ]
  }
 ],
 "metadata": {
  "kernelspec": {
   "display_name": "Python 2",
   "language": "python",
   "name": "python2"
  },
  "language_info": {
   "codemirror_mode": {
    "name": "ipython",
    "version": 2
   },
   "file_extension": ".py",
   "mimetype": "text/x-python",
   "name": "python",
   "nbconvert_exporter": "python",
   "pygments_lexer": "ipython2",
   "version": "2.7.12"
  }
 },
 "nbformat": 4,
 "nbformat_minor": 2
}
