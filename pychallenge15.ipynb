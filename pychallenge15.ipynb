{
 "cells": [
  {
   "cell_type": "markdown",
   "metadata": {},
   "source": [
    "# Problem 15\n",
    "\n",
    "he ain't the youngest, he is the second\n",
    "\n",
    "todo: buy flowers for tomorrow"
   ]
  },
  {
   "cell_type": "code",
   "execution_count": 1,
   "metadata": {},
   "outputs": [],
   "source": [
    "import datetime, calendar"
   ]
  },
  {
   "cell_type": "markdown",
   "metadata": {},
   "source": [
    "Let's find the years that start with 1 and end with 6 where the 26th of january was a monday and where there's a leap year (there's feb 29 in the picture!)"
   ]
  },
  {
   "cell_type": "code",
   "execution_count": 2,
   "metadata": {},
   "outputs": [
    {
     "name": "stdout",
     "output_type": "stream",
     "text": [
      "[1176, 1356, 1576, 1756, 1976]\n"
     ]
    }
   ],
   "source": [
    "possible_years = [year for year in range(1000, 2000) if year % 10 == 6 \n",
    "                      and datetime.date(year, 1, 26).weekday() == 0\n",
    "                      and calendar.isleap(year)]\n",
    "print possible_years"
   ]
  },
  {
   "cell_type": "markdown",
   "metadata": {},
   "source": [
    "And then let's take the second youngest birth date"
   ]
  },
  {
   "cell_type": "code",
   "execution_count": 3,
   "metadata": {},
   "outputs": [
    {
     "name": "stdout",
     "output_type": "stream",
     "text": [
      "1756\n"
     ]
    }
   ],
   "source": [
    "print possible_years[-2]"
   ]
  },
  {
   "cell_type": "markdown",
   "metadata": {},
   "source": [
    "Look for Jan 27, 1756. It's the birth date of Mozart!"
   ]
  }
 ],
 "metadata": {
  "kernelspec": {
   "display_name": "Python 2",
   "language": "python",
   "name": "python2"
  },
  "language_info": {
   "codemirror_mode": {
    "name": "ipython",
    "version": 2
   },
   "file_extension": ".py",
   "mimetype": "text/x-python",
   "name": "python",
   "nbconvert_exporter": "python",
   "pygments_lexer": "ipython2",
   "version": "2.7.12"
  }
 },
 "nbformat": 4,
 "nbformat_minor": 2
}
